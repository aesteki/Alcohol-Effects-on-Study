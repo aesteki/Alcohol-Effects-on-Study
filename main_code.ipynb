{
  "cells": [
    {
      "cell_type": "markdown",
      "metadata": {
        "id": "view-in-github",
        "colab_type": "text"
      },
      "source": [
        "<a href=\"https://colab.research.google.com/github/aesteki/Alcohol-Effects-on-Study/blob/main/main_code.ipynb\" target=\"_parent\"><img src=\"https://colab.research.google.com/assets/colab-badge.svg\" alt=\"Open In Colab\"/></a>"
      ]
    },
    {
      "cell_type": "markdown",
      "metadata": {
        "id": "I_nMIf5OA8cx"
      },
      "source": [
        "**Dataset and Model**\n",
        "\n",
        "This data approach student achievement in secondary education of two Portuguese schools. The data attributes include student grades, demographic, social and school related features) and it was collected by using school reports and questionnaires. Two datasets are provided regarding the performance in two distinct subjects: Mathematics (mat) and Portuguese language (por). In [Cortez and Silva, 2008], the two datasets were modeled under binary/five-level classification and regression tasks. Important note: the target attribute G3 has a strong correlation with attributes G2 and G1. This occurs because G3 is the final year grade (issued at the 3rd period), while G1 and G2 correspond to the 1st and 2nd period grades. It is more difficult to predict G3 without G2 and G1, but such prediction is much more useful (see paper source [here](http://www3.dsi.uminho.pt/pcortez/student.pdf)).\n",
        "\n",
        "Here, to simplify the problem, we measure training and test accuracy values incuding G1 and G2 as features of the model. To better also understand the accuracy of the results, we measure the Root Mean Squared Error (RMSE) between predicted values and the acutal target points. Moreover, two popular models Decision Tree (DT) and Gradient Boosted Decision Tree (GBDT) are compared here. The results for the DT model are taken from the reference paper where a 1.94 RMSE value is achieved. We tune our GBDT model to see whether this value can be decreased.\n",
        "\n",
        "In the following, we first import the data from gitHub, then some prerpocessing steps are performed such as turning string data structures into continuous values to fit for DR models, and then training is conducted. For brevity, the best model found for DT is depicted here without showing the process. However, we show how hyperparamters of the GBDT model are tuned. A brief comparison between the two models is provided at the end that shows the dominancy of the GBDT model over the DT model. Since the reference paper has optimized the DT model, the results of GBDT are compared to the on there.\n"
      ]
    },
    {
      "cell_type": "code",
      "source": [
        "pip install pydotplus"
      ],
      "metadata": {
        "colab": {
          "base_uri": "https://localhost:8080/"
        },
        "id": "wzKjpESVUCrB",
        "outputId": "f0355c44-54f8-46e3-9ab6-5e280270bdf9"
      },
      "execution_count": 38,
      "outputs": [
        {
          "output_type": "stream",
          "name": "stdout",
          "text": [
            "Looking in indexes: https://pypi.org/simple, https://us-python.pkg.dev/colab-wheels/public/simple/\n",
            "Requirement already satisfied: pydotplus in /usr/local/lib/python3.8/dist-packages (2.0.2)\n",
            "Requirement already satisfied: pyparsing>=2.0.1 in /usr/local/lib/python3.8/dist-packages (from pydotplus) (3.0.9)\n"
          ]
        }
      ]
    },
    {
      "cell_type": "code",
      "source": [
        "pip install graphviz"
      ],
      "metadata": {
        "colab": {
          "base_uri": "https://localhost:8080/"
        },
        "id": "e8ffV-_mUEy8",
        "outputId": "2c95bbf5-7100-461a-9cef-6c1c5099aeba"
      },
      "execution_count": 39,
      "outputs": [
        {
          "output_type": "stream",
          "name": "stdout",
          "text": [
            "Looking in indexes: https://pypi.org/simple, https://us-python.pkg.dev/colab-wheels/public/simple/\n",
            "Requirement already satisfied: graphviz in /usr/local/lib/python3.8/dist-packages (0.10.1)\n"
          ]
        }
      ]
    },
    {
      "cell_type": "code",
      "execution_count": 48,
      "metadata": {
        "id": "7-1OgNyTAeM_"
      },
      "outputs": [],
      "source": [
        "# We upload teh dataset and store Maths and Portuguese in two variables \"maths\" and \"port\"\n",
        "import pandas as pd\n",
        "import numpy as np\n",
        "import numpy\n",
        "from sklearn.tree import DecisionTreeClassifier # Import Decision Tree Classifier\n",
        "from sklearn.model_selection import train_test_split # Import train_test_split function\n",
        "from sklearn import metrics #Import scikit-learn metrics module for accuracy calculation\n",
        "from sklearn.feature_selection import SelectKBest\n",
        "from sklearn.feature_selection import f_regression\n",
        "from sklearn.metrics import mean_squared_error\n",
        "from sklearn.utils import shuffle\n",
        "from math import sqrt\n",
        "import matplotlib.pyplot as plt\n",
        "url_maths = 'https://raw.githubusercontent.com/aesteki/Alcohol-Effects-on-Study/main/Maths.csv'\n",
        "url_port = 'https://raw.githubusercontent.com/aesteki/Alcohol-Effects-on-Study/main/Portuguese.csv'\n",
        "maths = pd.read_csv(url_maths)\n",
        "port = pd.read_csv(url_port)"
      ]
    },
    {
      "cell_type": "code",
      "source": [
        "# replacing values\n",
        "\n",
        "maths['school'].replace(['GP', 'MS'], [0, 1], inplace=True)\n",
        "maths['sex'].replace(['M', 'F'], [0, 1], inplace=True)\n",
        "maths['address'].replace(['U', 'R'], [0, 1], inplace=True)\n",
        "maths['Pstatus'].replace(['A', 'T'], [0, 1], inplace=True)\n",
        "maths['famsize'].replace(['GT3', 'LE3'], [0, 1], inplace=True)\n",
        "maths['Mjob'].replace(['at_home', 'health', 'other', 'services', 'teacher'], [0, 1, 2, 3, 4], inplace=True)\n",
        "maths['Fjob'].replace(['at_home', 'health', 'other', 'services', 'teacher'], [0, 1, 2, 3, 4], inplace=True)\n",
        "maths['reason'].replace(['course', 'other', 'home', 'reputation'], [0, 1, 2, 3], inplace=True)\n",
        "maths['guardian'].replace(['mother', 'father', 'other'], [0, 1, 2], inplace=True)\n",
        "maths['schoolsup'].replace(['yes', 'no'], [0, 1], inplace=True)\n",
        "maths['famsup'].replace(['yes', 'no'], [0, 1], inplace=True)\n",
        "maths['paid'].replace(['yes', 'no'], [0, 1], inplace=True)\n",
        "maths['activities'].replace(['yes', 'no'], [0, 1], inplace=True)\n",
        "maths['nursery'].replace(['yes', 'no'], [0, 1], inplace=True)\n",
        "maths['higher'].replace(['yes', 'no'], [0, 1], inplace=True)\n",
        "maths['internet'].replace(['yes', 'no'], [0, 1], inplace=True)\n",
        "maths['romantic'].replace(['yes', 'no'], [0, 1], inplace=True)\n",
        "\n",
        "port['school'].replace(['GP', 'MS'], [0, 1], inplace=True)\n",
        "port['sex'].replace(['M', 'F'], [0, 1], inplace=True)\n",
        "port['address'].replace(['U', 'R'], [0, 1], inplace=True)\n",
        "port['Pstatus'].replace(['A', 'T'], [0, 1], inplace=True)\n",
        "port['famsize'].replace(['GT3', 'LE3'], [0, 1], inplace=True)\n",
        "port['Mjob'].replace(['at_home', 'health', 'other', 'services', 'teacher'], [0, 1, 2, 3, 4], inplace=True)\n",
        "port['Fjob'].replace(['at_home', 'health', 'other', 'services', 'teacher'], [0, 1, 2, 3, 4], inplace=True)\n",
        "port['reason'].replace(['course', 'other', 'home', 'reputation'], [0, 1, 2, 3], inplace=True)\n",
        "port['guardian'].replace(['mother', 'father', 'other'], [0, 1, 2], inplace=True)\n",
        "port['schoolsup'].replace(['yes', 'no'], [0, 1], inplace=True)\n",
        "port['famsup'].replace(['yes', 'no'], [0, 1], inplace=True)\n",
        "port['paid'].replace(['yes', 'no'], [0, 1], inplace=True)\n",
        "port['activities'].replace(['yes', 'no'], [0, 1], inplace=True)\n",
        "port['nursery'].replace(['yes', 'no'], [0, 1], inplace=True)\n",
        "port['higher'].replace(['yes', 'no'], [0, 1], inplace=True)\n",
        "port['internet'].replace(['yes', 'no'], [0, 1], inplace=True)\n",
        "port['romantic'].replace(['yes', 'no'], [0, 1], inplace=True)"
      ],
      "metadata": {
        "id": "gwAo3v65N7jW"
      },
      "execution_count": 49,
      "outputs": []
    },
    {
      "cell_type": "code",
      "execution_count": 45,
      "metadata": {
        "colab": {
          "base_uri": "https://localhost:8080/"
        },
        "id": "dsuXm0fkDrPG",
        "outputId": "364234ea-3b48-4765-a464-c9f3be41b3a2"
      },
      "outputs": [
        {
          "output_type": "stream",
          "name": "stdout",
          "text": [
            "Train Accuracy: %64.96835443037973\n",
            "Test Accuracy: %42.227848101265806\n",
            "Test RMSE: 2.180265557940999\n"
          ]
        }
      ],
      "source": [
        "\n",
        "#Decision Tree Model with 100 iterations to average the model training and test accuracy.\n",
        "\n",
        "iterations = 100\n",
        "trainAccuracy = 0\n",
        "testAccuracy = 0\n",
        "testRMSE = 0\n",
        "for iter in range(iterations):\n",
        "  maths = maths.sample(frac = 1)\n",
        "  port = port.sample(frac = 1)\n",
        "\n",
        "  data = maths\n",
        "  featureColumns = data.columns.tolist()\n",
        "  features = featureColumns[0:32]\n",
        "  featureCount = len(features)\n",
        "  target = featureColumns[-1]\n",
        "  sampleCount = len(data[\"G3\"])\n",
        "\n",
        "  # Building the matrix for the training dataset\n",
        "\n",
        "  X = [[0 for _ in range(featureCount)] for _ in range(sampleCount)]\n",
        "  for j, feature in enumerate(features):\n",
        "    for i, value in enumerate(data[feature]):\n",
        "      X[i][j] = value\n",
        "  \n",
        "  # Specifying the target values\n",
        "  \n",
        "  y = [0 for _ in range(sampleCount)]\n",
        "  for i, x in enumerate(data[target]):\n",
        "    y[i] = x\n",
        "  \n",
        "  # Split dataset into training set and test set\n",
        "  \n",
        "  X_train, X_test, y_train, y_test = train_test_split(X, y, test_size=0.2, random_state=1) # 80% training and 20% test\n",
        "  \n",
        "  # Create Decision Tree classifer object\n",
        "  \n",
        "  clf = DecisionTreeClassifier(max_depth=5)\n",
        "  \n",
        "  # Train Decision Tree Classifer\n",
        "  \n",
        "  clf = clf.fit(X_train,y_train)\n",
        "  \n",
        "  #Predict the response for test dataset\n",
        "  \n",
        "  y_pred = clf.predict(X_train)\n",
        "  trainAccuracy += metrics.accuracy_score(y_train, y_pred)\n",
        "  \n",
        "  # Model Accuracy, how often is the regressor correct?\n",
        "  \n",
        "  y_pred = clf.predict(X_test)\n",
        "  testAccuracy += metrics.accuracy_score(y_test, y_pred)\n",
        "  testRMSE += sqrt(mean_squared_error(y_test, y_pred))\n",
        "\n",
        "trainAccuracy /= iterations\n",
        "testAccuracy /= iterations\n",
        "testRMSE /= iterations\n",
        "print(\"Train Accuracy: %\"+str(100*trainAccuracy))\n",
        "print(\"Test Accuracy: %\"+str(100*testAccuracy))\n",
        "print(\"Test RMSE: \"+str(testRMSE))"
      ]
    },
    {
      "cell_type": "code",
      "source": [
        "from graphviz import Source\n",
        "from sklearn import tree\n",
        "Source( tree.export_graphviz(clf, out_file=None, feature_names=features))"
      ],
      "metadata": {
        "id": "O6qhzeOmqO6P"
      },
      "execution_count": null,
      "outputs": []
    },
    {
      "cell_type": "markdown",
      "source": [
        "We now train a model using the popular novel method Gradient Boosted Decision Trees (GBDT). This new method of course needs tuning just like other models. Therefore, we seek to find the optimum maximum depth of the tree and minimum child weights in the next two set of iterations. For each hyperparamter different values for these two hyperparatmers are assigned, for 100 iterations the ttraining and test accuracy, and RMSE of the model are measured in average, and the final results are compared. The model with the highest test accuracy is then chosen."
      ],
      "metadata": {
        "id": "Mm-cLz1ZeOXo"
      }
    },
    {
      "cell_type": "code",
      "source": [
        "from xgboost import XGBClassifier\n",
        "\n",
        "#Gradient Boosted Decision Tree Model with 100 iterations while optimizing the hyperparamter max_depth\n",
        "\n",
        "iterations = 5\n",
        "rounds = 100\n",
        "trainAccuracy = [0 for _ in range(iterations)]\n",
        "testAccuracy = [0 for _ in range(iterations)]\n",
        "testRMSE = [0 for _ in range(iterations)]\n",
        "for iter in range(iterations):\n",
        "  for round in range(rounds):\n",
        "    data = maths.values\n",
        "\n",
        "    # Split dataset into input and output columns\n",
        "\n",
        "    X, y = data[:, :-1], data[:, -1]\n",
        "    X, y = shuffle(X, y)\n",
        "\n",
        "    # Split dataset into training set and test set\n",
        "\n",
        "    X_train, X_test, y_train, y_test = train_test_split(X, y, test_size=0.2, random_state=1) # 80% training and 20% test\n",
        "    model = XGBClassifier(max_depth=(iter+1)*2)\n",
        "    model.fit(X_train, y_train)\n",
        "\n",
        "    #Predict the response for test dataset\n",
        "\n",
        "    y_pred = model.predict(X_train)\n",
        "    trainAccuracy[iter] += metrics.accuracy_score(y_train, y_pred)\n",
        "\n",
        "    # Model Accuracy, how often is the regressor correct?\n",
        "\n",
        "    y_pred = model.predict(X_test)\n",
        "    testAccuracy[iter] += metrics.accuracy_score(y_test, y_pred)\n",
        "    testRMSE[iter] += sqrt(mean_squared_error(y_test, y_pred))\n",
        "  trainAccuracy[iter] /= rounds\n",
        "  testAccuracy[iter] /= rounds\n",
        "  testRMSE[iter] /= rounds\n",
        "\n",
        "plt.plot([(i+1)*2 for i in range(iterations)], trainAccuracy, 'r')\n",
        "plt.plot([(i+1)*2 for i in range(iterations)], testAccuracy, 'b')\n",
        "plt.xlabel(\"Max Depth\")\n",
        "plt.ylabel(\"Accuracy\")\n",
        "plt.show()\n",
        "plt.plot([(i+1)*2 for i in range(iterations)], testRMSE, 'g')\n",
        "plt.xlabel(\"Max Depth\")\n",
        "plt.ylabel(\"Test Data RMSE\")\n",
        "plt.show()"
      ],
      "metadata": {
        "colab": {
          "base_uri": "https://localhost:8080/",
          "height": 541
        },
        "id": "ntqBBXg4WaKw",
        "outputId": "35fd4b0f-6e13-4552-e8af-d76b8066616e"
      },
      "execution_count": 73,
      "outputs": [
        {
          "output_type": "display_data",
          "data": {
            "text/plain": [
              "<Figure size 432x288 with 1 Axes>"
            ],
            "image/png": "[encoded data removed]"
          },
          "metadata": {
            "needs_background": "light"
          }
        },
        {
          "output_type": "display_data",
          "data": {
            "text/plain": [
              "<Figure size 432x288 with 1 Axes>"
            ],
            "image/png": "[encoded data removed]"
          },
          "metadata": {
            "needs_background": "light"
          }
        }
      ]
    },
    {
      "cell_type": "markdown",
      "source": [
        "We can see in the results above that with max_depth=6,8,10 we get almost the same percentage for the test accuracy. Therefore, we look at the RMSE value for the test data, and since at max_depth=6, we have the lowest RMSE, we choose this value to continue with. Next, we measure which value min_child_weight gives us the best test accuracy."
      ],
      "metadata": {
        "id": "_ZUB_DZKe8C-"
      }
    },
    {
      "cell_type": "code",
      "source": [
        "from xgboost import XGBClassifier\n",
        "\n",
        "#Gradient Boosted Decision Tree Model with 100 iterations while optimizing the hyperparamter max_depth\n",
        "\n",
        "iterations = 10\n",
        "rounds = 100\n",
        "trainAccuracy = [0 for _ in range(iterations)]\n",
        "testAccuracy = [0 for _ in range(iterations)]\n",
        "testRMSE = [0 for _ in range(iterations)]\n",
        "for iter in range(iterations):\n",
        "  for round in range(rounds):\n",
        "    data = maths.values\n",
        "\n",
        "    # Split dataset into input and output columns\n",
        "\n",
        "    X, y = data[:, :-1], data[:, -1]\n",
        "    X, y = shuffle(X, y)\n",
        "\n",
        "    # Split dataset into training set and test set\n",
        "\n",
        "    X_train, X_test, y_train, y_test = train_test_split(X, y, test_size=0.2, random_state=1) # 80% training and 20% test\n",
        "    model = XGBClassifier(max_depth=6, min_child_weight=(iter+1)*2)\n",
        "    model.fit(X_train, y_train)\n",
        "\n",
        "    #Predict the response for test dataset\n",
        "\n",
        "    y_pred = model.predict(X_train)\n",
        "    trainAccuracy[iter] += metrics.accuracy_score(y_train, y_pred)\n",
        "\n",
        "    # Model Accuracy, how often is the regressor correct?\n",
        "\n",
        "    y_pred = model.predict(X_test)\n",
        "    testAccuracy[iter] += metrics.accuracy_score(y_test, y_pred)\n",
        "    testRMSE[iter] += sqrt(mean_squared_error(y_test, y_pred))\n",
        "  trainAccuracy[iter] /= rounds\n",
        "  testAccuracy[iter] /= rounds\n",
        "  testRMSE[iter] /= rounds"
      ],
      "metadata": {
        "id": "g3xdjeyabcYX"
      },
      "execution_count": null,
      "outputs": []
    },
    {
      "cell_type": "code",
      "source": [
        "plt.plot([(i+1)*2 for i in range(iterations)], trainAccuracy, 'r')\n",
        "plt.plot([(i+1)*2 for i in range(iterations)], testAccuracy, 'b')\n",
        "plt.xlabel(\"Min Child Weight\")\n",
        "plt.ylabel(\"Accuracy\")\n",
        "plt.show()\n",
        "plt.plot([(i+1)*2 for i in range(iterations)], testRMSE, 'g')\n",
        "plt.xlabel(\"Min Child Weight\")\n",
        "plt.ylabel(\"Test Data RMSE\")\n",
        "plt.show()"
      ],
      "metadata": {
        "colab": {
          "base_uri": "https://localhost:8080/",
          "height": 541
        },
        "id": "LdrsBdq0h1JV",
        "outputId": "ebdcc283-4e34-4ff5-8cc3-657387ed7813"
      },
      "execution_count": 75,
      "outputs": [
        {
          "output_type": "display_data",
          "data": {
            "text/plain": [
              "<Figure size 432x288 with 1 Axes>"
            ],
            "image/png": "[encoded data removed]"
          },
          "metadata": {
            "needs_background": "light"
          }
        },
        {
          "output_type": "display_data",
          "data": {
            "text/plain": [
              "<Figure size 432x288 with 1 Axes>"
            ],
            "image/png": "[encoded data removed]"
          },
          "metadata": {
            "needs_background": "light"
          }
        }
      ]
    },
    {
      "cell_type": "markdown",
      "source": [
        "The result above indicates that the ebst test accuracy occurs while choosing min_child_weight=6. Since we need faster simulations, by. incorporating the hypermatater tree_method='hist', and some other manipulations in the model, we traing the final model as below."
      ],
      "metadata": {
        "id": "jnunpSPpgINu"
      }
    },
    {
      "cell_type": "code",
      "source": [
        "from xgboost import XGBClassifier\n",
        "\n",
        "#Gradient Boosted Decision Tree Model with 100 iterations to average the model training and test accuracy.\n",
        "\n",
        "iterations = 100\n",
        "trainAccuracy = 0\n",
        "testAccuracy = 0\n",
        "testRMSE = 0\n",
        "for iter in range(iterations):\n",
        "  data = maths.values\n",
        "\n",
        "  # Split dataset into input and output columns\n",
        "\n",
        "  X, y = data[:, :-1], data[:, -1]\n",
        "  X, y = shuffle(X, y)\n",
        "\n",
        "  # Split dataset into training set and test set\n",
        "\n",
        "  X_train, X_test, y_train, y_test = train_test_split(X, y, test_size=0.2, random_state=1) # 80% training and 20% test\n",
        "  model = XGBClassifier(max_depth=6, min_child_weight=6, tree_method='hist', gamma=2, subsample=0.8, colsample_bytree=0.8)\n",
        "  model.fit(X_train, y_train)\n",
        "\n",
        "  #Predict the response for test dataset\n",
        "\n",
        "  y_pred = model.predict(X_train)\n",
        "  trainAccuracy += metrics.accuracy_score(y_train, y_pred)\n",
        "\n",
        "  # Model Accuracy, how often is the regressor correct?\n",
        "\n",
        "  y_pred = model.predict(X_test)\n",
        "  testAccuracy += metrics.accuracy_score(y_test, y_pred)\n",
        "  testRMSE += sqrt(mean_squared_error(y_test, y_pred))\n",
        "trainAccuracy /= iterations\n",
        "testAccuracy /= iterations\n",
        "testRMSE /= iterations\n",
        "print(\"Train Accuracy: %\"+str(100*trainAccuracy))\n",
        "print(\"Test Accuracy: %\"+str(100*testAccuracy))\n",
        "print(\"Test RMSE: \"+str(testRMSE))"
      ],
      "metadata": {
        "colab": {
          "base_uri": "https://localhost:8080/"
        },
        "id": "Cylt1RIFodlh",
        "outputId": "8ecbc5cc-0ad5-45ce-80e4-ec986032a781"
      },
      "execution_count": 83,
      "outputs": [
        {
          "output_type": "stream",
          "name": "stdout",
          "text": [
            "Train Accuracy: %64.24050632911393\n",
            "Test Accuracy: %56.9620253164557\n",
            "Test RMSE: 1.3547852368455613\n"
          ]
        }
      ]
    },
    {
      "cell_type": "markdown",
      "source": [
        "In summary we have the final results for the DT and GBDT model as following:\n",
        "DT:\n",
        "\n",
        "*   DT of the current work:\n",
        "        Training Accuracy = %64.97\n",
        "        Test Accuracy = %42.23\n",
        "        RMSE = 2.18\n",
        "\n",
        "*   DT of the reference paper:\n",
        "        Training Accuracy = N/A\n",
        "        Test Accuracy = N/A\n",
        "        RMSE = 1.94\n",
        "\n",
        "*   GBDT of the current work:\n",
        "        Training Accuracy = 64.24\n",
        "        Test Accuracy = 56.96\n",
        "        RMSE = 1.35\n",
        "\n",
        "We can observe that the GBDT model has a %14.73 increase in test accuracy compared to the DT model we formed in the current work while maintaining 0.6 decrease in RMSE compared to the DT model achieved by the reference paper. This shows the dominancy of the GBDT model over the DT model.\n",
        "\n"
      ],
      "metadata": {
        "id": "Kz5rGpWrgqYP"
      }
    }
  ],
  "metadata": {
    "colab": {
      "provenance": [],
      "authorship_tag": "ABX9TyOeeohlkFuc4MtHd0RRf0YE",
      "include_colab_link": true
    },
    "kernelspec": {
      "display_name": "Python 3",
      "name": "python3"
    },
    "language_info": {
      "name": "python"
    }
  },
  "nbformat": 4,
  "nbformat_minor": 0
}